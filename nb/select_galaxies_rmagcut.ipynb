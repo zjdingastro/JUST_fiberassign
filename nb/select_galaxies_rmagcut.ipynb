{
 "cells": [
  {
   "cell_type": "markdown",
   "id": "28906f9f-b2b2-4d32-b935-cca14279e7e2",
   "metadata": {},
   "source": [
    "## Select samples with different magnitude cuts.  --06-26-2025"
   ]
  },
  {
   "cell_type": "code",
   "execution_count": 1,
   "id": "60d0f243-1a2e-4798-b700-b22b09150a17",
   "metadata": {
    "execution": {
     "iopub.execute_input": "2025-06-30T05:51:33.272925Z",
     "iopub.status.busy": "2025-06-30T05:51:33.272705Z",
     "iopub.status.idle": "2025-06-30T05:51:41.720759Z",
     "shell.execute_reply": "2025-06-30T05:51:41.719876Z",
     "shell.execute_reply.started": "2025-06-30T05:51:33.272905Z"
    },
    "tags": []
   },
   "outputs": [
    {
     "name": "stdout",
     "output_type": "stream",
     "text": [
      "%pylab is deprecated, use %matplotlib inline and import the required libraries.\n",
      "Populating the interactive namespace from numpy and matplotlib\n"
     ]
    }
   ],
   "source": [
    "%pylab inline"
   ]
  },
  {
   "cell_type": "code",
   "execution_count": 2,
   "id": "260704ad-7d04-4de5-8fb3-99f2ccee1c79",
   "metadata": {
    "execution": {
     "iopub.execute_input": "2025-06-30T05:51:43.219839Z",
     "iopub.status.busy": "2025-06-30T05:51:43.218909Z",
     "iopub.status.idle": "2025-06-30T05:51:52.153869Z",
     "shell.execute_reply": "2025-06-30T05:51:52.152607Z",
     "shell.execute_reply.started": "2025-06-30T05:51:43.219809Z"
    },
    "tags": []
   },
   "outputs": [],
   "source": [
    "import os, sys\n",
    "import numpy as np\n",
    "import fitsio\n",
    "from astropy.table import Table"
   ]
  },
  {
   "cell_type": "code",
   "execution_count": 3,
   "id": "205d8778-a05b-4b94-88f6-27bb41743c5b",
   "metadata": {
    "execution": {
     "iopub.execute_input": "2025-06-30T05:51:52.156080Z",
     "iopub.status.busy": "2025-06-30T05:51:52.155715Z",
     "iopub.status.idle": "2025-06-30T05:51:52.160329Z",
     "shell.execute_reply": "2025-06-30T05:51:52.159540Z",
     "shell.execute_reply.started": "2025-06-30T05:51:52.156056Z"
    },
    "tags": []
   },
   "outputs": [],
   "source": [
    "##idir0 = \"/home/xhyang/work/Gfinder/DESIDR9/data/\"\n",
    "idir0 = \"/home/yrwang/work_wyr/DESI_DR9/new_catalogue/\"\n",
    "\n",
    "filename = \"DESIDR9_galaxy.npy\""
   ]
  },
  {
   "cell_type": "code",
   "execution_count": 4,
   "id": "63e4dbd1-4edc-490a-ab81-87c8498ff90e",
   "metadata": {
    "execution": {
     "iopub.execute_input": "2025-06-30T05:51:52.161484Z",
     "iopub.status.busy": "2025-06-30T05:51:52.161196Z",
     "iopub.status.idle": "2025-06-30T05:52:06.354051Z",
     "shell.execute_reply": "2025-06-30T05:52:06.352825Z",
     "shell.execute_reply.started": "2025-06-30T05:51:52.161464Z"
    },
    "tags": []
   },
   "outputs": [
    {
     "name": "stdout",
     "output_type": "stream",
     "text": [
      "CPU times: user 0 ns, sys: 8 s, total: 8 s\n",
      "Wall time: 13.9 s\n"
     ]
    }
   ],
   "source": [
    "%%time\n",
    "gal_cat = np.load(idir0+filename)"
   ]
  },
  {
   "cell_type": "code",
   "execution_count": 7,
   "id": "3e36ac2b-f989-43b3-8a2c-0bb63a064b22",
   "metadata": {
    "execution": {
     "iopub.execute_input": "2025-06-30T05:57:56.214809Z",
     "iopub.status.busy": "2025-06-30T05:57:56.214392Z",
     "iopub.status.idle": "2025-06-30T05:57:56.220068Z",
     "shell.execute_reply": "2025-06-30T05:57:56.219117Z",
     "shell.execute_reply.started": "2025-06-30T05:57:56.214786Z"
    },
    "tags": []
   },
   "outputs": [
    {
     "data": {
      "text/plain": [
       "(138315649, 15)"
      ]
     },
     "execution_count": 7,
     "metadata": {},
     "output_type": "execute_result"
    }
   ],
   "source": [
    "gal_cat.shape"
   ]
  },
  {
   "cell_type": "code",
   "execution_count": 8,
   "id": "537bf26f-7bff-4cb3-8bbd-a86355ea44c3",
   "metadata": {
    "execution": {
     "iopub.execute_input": "2025-06-30T05:58:01.211037Z",
     "iopub.status.busy": "2025-06-30T05:58:01.210592Z",
     "iopub.status.idle": "2025-06-30T05:58:01.217142Z",
     "shell.execute_reply": "2025-06-30T05:58:01.216430Z",
     "shell.execute_reply.started": "2025-06-30T05:58:01.211009Z"
    },
    "tags": []
   },
   "outputs": [
    {
     "data": {
      "text/plain": [
       "array([[ 0.00000000e+00,  9.73989646e+01,  7.84766830e+01, ...,\n",
       "        -6.29385829e-01,  2.16256237e+01,  1.00000000e+00],\n",
       "       [ 1.00000000e+00,  9.74072612e+01,  7.85689539e+01, ...,\n",
       "         8.16256881e-01,  2.29133530e+01,  1.00000000e+00],\n",
       "       [ 2.00000000e+00,  9.74098214e+01,  7.84171062e+01, ...,\n",
       "        -3.35482657e-01,  2.14322128e+01,  1.00000000e+00],\n",
       "       ...,\n",
       "       [ 1.38315646e+08,  3.51571224e+02,  3.40134471e+01, ...,\n",
       "        -4.25333828e-01,  2.13322906e+01,  1.00000000e+00],\n",
       "       [ 1.38315647e+08,  3.51571608e+02,  3.39438549e+01, ...,\n",
       "        -2.66461134e-01,  1.94252491e+01,  0.00000000e+00],\n",
       "       [ 1.38315648e+08,  3.51571611e+02,  3.40092945e+01, ...,\n",
       "        -4.27486420e-01,  2.13678932e+01,  1.00000000e+00]])"
      ]
     },
     "execution_count": 8,
     "metadata": {},
     "output_type": "execute_result"
    }
   ],
   "source": [
    "gal_cat"
   ]
  },
  {
   "cell_type": "code",
   "execution_count": 12,
   "id": "3198f56d-7b6b-4b84-a786-3b166cd28296",
   "metadata": {
    "execution": {
     "iopub.execute_input": "2025-06-30T06:02:57.502374Z",
     "iopub.status.busy": "2025-06-30T06:02:57.502028Z",
     "iopub.status.idle": "2025-06-30T06:03:04.335272Z",
     "shell.execute_reply": "2025-06-30T06:03:04.334554Z",
     "shell.execute_reply.started": "2025-06-30T06:02:57.502354Z"
    },
    "tags": []
   },
   "outputs": [
    {
     "name": "stdout",
     "output_type": "stream",
     "text": [
      "CPU times: user 3.3 s, sys: 3.53 s, total: 6.83 s\n",
      "Wall time: 6.82 s\n"
     ]
    },
    {
     "data": {
      "text/html": [
       "<div><i>Table length=138315649</i>\n",
       "<table id=\"table47280455251568\" class=\"table-striped table-bordered table-condensed\">\n",
       "<thead><tr><th>gal_id</th><th>RA</th><th>DEC</th><th>z</th><th>Z_absmag</th><th>Z_L</th><th>R_absmag</th><th>R_L</th><th>zerr</th><th>logMstar</th><th>Z_kcorr</th><th>Z_appmag</th><th>R_kcorr</th><th>R_appmag</th><th>select</th></tr></thead>\n",
       "<thead><tr><th>float64</th><th>float64</th><th>float64</th><th>float64</th><th>float64</th><th>float64</th><th>float64</th><th>float64</th><th>float64</th><th>float64</th><th>float64</th><th>float64</th><th>float64</th><th>float64</th><th>float64</th></tr></thead>\n",
       "<tr><td>0.0</td><td>97.39896455348688</td><td>78.47668295763336</td><td>0.3817688822746277</td><td>-19.378753795716193</td><td>9.683501518286477</td><td>-18.523034676405814</td><td>9.565213870562326</td><td>0.07345464080572128</td><td>9.72371768951416</td><td>-0.47307080030441284</td><td>20.926490783691406</td><td>-0.6293858289718628</td><td>21.62562370300293</td><td>1.0</td></tr>\n",
       "<tr><td>1.0</td><td>97.4072611638097</td><td>78.56895388549455</td><td>0.942081093788147</td><td>-22.199963320398012</td><td>10.811985328159205</td><td>-21.04933627357451</td><td>10.575734509429806</td><td>0.20936688780784607</td><td>10.928688049316406</td><td>-0.10994037985801697</td><td>20.8456974029541</td><td>0.8162568807601929</td><td>22.913352966308594</td><td>1.0</td></tr>\n",
       "<tr><td>2.0</td><td>97.40982141961794</td><td>78.41710616978406</td><td>0.5803049802780151</td><td>-20.583067403162204</td><td>10.165226961264882</td><td>-20.09233258756467</td><td>10.192933035025868</td><td>0.07987365126609802</td><td>9.729487419128418</td><td>-0.3231440484523773</td><td>20.953453063964844</td><td>-0.335482656955719</td><td>21.432212829589844</td><td>1.0</td></tr>\n",
       "<tr><td>3.0</td><td>97.41315862905633</td><td>78.40450000094273</td><td>0.4381779134273529</td><td>-21.47952006347372</td><td>10.523808025389489</td><td>-20.44899661429121</td><td>10.335598645716486</td><td>0.054174166172742844</td><td>10.665435791015625</td><td>-0.47184574604034424</td><td>19.184791564941406</td><td>-0.5844707489013672</td><td>20.099506378173828</td><td>1.0</td></tr>\n",
       "<tr><td>4.0</td><td>97.41667091690539</td><td>78.50063218008853</td><td>0.5949360132217407</td><td>-21.03363141329345</td><td>10.34545256531738</td><td>-20.092613696170417</td><td>10.193045478468168</td><td>0.16443847119808197</td><td>10.227652549743652</td><td>-0.36841368675231934</td><td>20.529043197631836</td><td>-0.24334026873111725</td><td>21.58721351623535</td><td>1.0</td></tr>\n",
       "<tr><td>5.0</td><td>97.42059145285631</td><td>78.39016480972529</td><td>0.5318899154663086</td><td>-20.831276609619806</td><td>10.264510643847922</td><td>-19.772714956721018</td><td>10.065085982688409</td><td>0.05327216908335686</td><td>10.445337295532227</td><td>-0.39621812105178833</td><td>20.404409408569336</td><td>-0.3527913987636566</td><td>21.512720108032227</td><td>1.0</td></tr>\n",
       "<tr><td>6.0</td><td>97.4222782512624</td><td>78.58547948653145</td><td>0.6445044279098511</td><td>-21.419940266866575</td><td>10.49997610674663</td><td>-20.911199603338133</td><td>10.520479841335254</td><td>0.0817503109574318</td><td>10.24426555633545</td><td>-0.35645437240600586</td><td>20.360429763793945</td><td>-0.25699302554130554</td><td>20.96501922607422</td><td>1.0</td></tr>\n",
       "<tr><td>7.0</td><td>97.42554759155851</td><td>78.46643373407663</td><td>0.7112349271774292</td><td>-21.488264960139674</td><td>10.52730598405587</td><td>-20.866982263415736</td><td>10.502792905366295</td><td>0.0662883073091507</td><td>10.355422019958496</td><td>-0.33005669713020325</td><td>20.579893112182617</td><td>-0.048287637531757355</td><td>21.474641799926758</td><td>1.0</td></tr>\n",
       "<tr><td>8.0</td><td>97.4273696092702</td><td>78.42345079493901</td><td>0.3899470865726471</td><td>-19.800817456469304</td><td>9.852326982587721</td><td>-18.796619560942418</td><td>9.674647824376969</td><td>0.05752764642238617</td><td>10.000404357910156</td><td>-0.4696398973464966</td><td>20.561565399169922</td><td>-0.6723949909210205</td><td>21.364166259765625</td><td>1.0</td></tr>\n",
       "<tr><td>...</td><td>...</td><td>...</td><td>...</td><td>...</td><td>...</td><td>...</td><td>...</td><td>...</td><td>...</td><td>...</td><td>...</td><td>...</td><td>...</td><td>...</td></tr>\n",
       "<tr><td>138315639.0</td><td>351.5670915632934</td><td>33.984249121479884</td><td>0.3386342227458954</td><td>-21.62810205833506</td><td>10.583240823334023</td><td>-20.53095620290827</td><td>10.368382481163309</td><td>0.019117575138807297</td><td>10.803277969360352</td><td>-0.5061397552490234</td><td>18.343725204467773</td><td>-0.8036392331123352</td><td>19.14337158203125</td><td>1.0</td></tr>\n",
       "<tr><td>138315640.0</td><td>351.5675715318976</td><td>34.021386185793425</td><td>0.27413323521614075</td><td>-20.88991948306861</td><td>10.287967793227445</td><td>-20.238979869487906</td><td>10.251591947795163</td><td>0.020895294845104218</td><td>10.276554107666016</td><td>-0.4143223464488983</td><td>18.645198822021484</td><td>-0.5962144136428833</td><td>19.114246368408203</td><td>1.0</td></tr>\n",
       "<tr><td>138315641.0</td><td>351.56834469251197</td><td>33.98198157234005</td><td>0.6119414567947388</td><td>-21.200413492527673</td><td>10.41216539701107</td><td>-20.146692094412515</td><td>10.214676837765007</td><td>0.06929498165845871</td><td>10.370969772338867</td><td>-0.34515589475631714</td><td>20.45760726928711</td><td>-0.16479220986366272</td><td>21.691692352294922</td><td>0.0</td></tr>\n",
       "<tr><td>138315642.0</td><td>351.5691930737979</td><td>34.00516008574135</td><td>0.24000416696071625</td><td>-18.383016174636744</td><td>9.285206469854698</td><td>-17.957867538534067</td><td>9.339147015413628</td><td>0.12663471698760986</td><td>8.970325469970703</td><td>-0.2669375240802765</td><td>20.971435546875</td><td>-0.4544782042503357</td><td>21.209043502807617</td><td>0.0</td></tr>\n",
       "<tr><td>138315643.0</td><td>351.57032725367895</td><td>34.03898226023132</td><td>0.2601008117198944</td><td>-18.792184395513786</td><td>9.448873758205513</td><td>-18.331221146307243</td><td>9.488488458522898</td><td>0.14402616024017334</td><td>9.294320106506348</td><td>-0.33038172125816345</td><td>20.69681739807129</td><td>-0.48704084753990173</td><td>21.001121520996094</td><td>1.0</td></tr>\n",
       "<tr><td>138315644.0</td><td>351.57037938538315</td><td>33.97714691855014</td><td>0.4629931151866913</td><td>-20.67673208765507</td><td>10.202692835062027</td><td>-19.886240685505868</td><td>10.110496274202347</td><td>0.05119457095861435</td><td>10.213850975036621</td><td>-0.4529428482055664</td><td>20.1467227935791</td><td>-0.5114415287971497</td><td>20.87871551513672</td><td>1.0</td></tr>\n",
       "<tr><td>138315645.0</td><td>351.5707818515157</td><td>33.979262762840605</td><td>0.9794149994850159</td><td>-21.871582431083667</td><td>10.680632972433466</td><td>-21.34030852962111</td><td>10.692123411848446</td><td>0.11706745624542236</td><td>10.462970733642578</td><td>-0.38520482182502747</td><td>20.994295120239258</td><td>0.1948017179965973</td><td>22.105575561523438</td><td>1.0</td></tr>\n",
       "<tr><td>138315646.0</td><td>351.5712239587144</td><td>34.013447119231074</td><td>0.5455729961395264</td><td>-20.349498767071694</td><td>10.071799506828677</td><td>-19.944898355418175</td><td>10.133959342167271</td><td>0.19884483516216278</td><td>9.9318265914917</td><td>-0.3742280602455139</td><td>20.978796005249023</td><td>-0.42533382773399353</td><td>21.332290649414062</td><td>1.0</td></tr>\n",
       "<tr><td>138315647.0</td><td>351.5716075454709</td><td>33.943854945855115</td><td>0.060237009078264236</td><td>-16.421157383805195</td><td>8.500462953522078</td><td>-16.68726398933498</td><td>8.830905595733993</td><td>0.12979024648666382</td><td>8.606054306030273</td><td>-0.4891660213470459</td><td>19.468650817871094</td><td>-0.2664611339569092</td><td>19.425249099731445</td><td>0.0</td></tr>\n",
       "<tr><td>138315648.0</td><td>351.57161058246237</td><td>34.009294477740454</td><td>0.5170953273773193</td><td>-20.19097898117097</td><td>10.008391592468389</td><td>-19.76745150199922</td><td>10.062980600799689</td><td>0.05480726435780525</td><td>9.494077682495117</td><td>-0.4138462543487549</td><td>20.958005905151367</td><td>-0.4274864196777344</td><td>21.36789321899414</td><td>1.0</td></tr>\n",
       "</table></div>"
      ],
      "text/plain": [
       "<Table length=138315649>\n",
       "   gal_id           RA                DEC         ...      R_appmag       select\n",
       "  float64        float64            float64       ...      float64       float64\n",
       "----------- ------------------ ------------------ ... ------------------ -------\n",
       "        0.0  97.39896455348688  78.47668295763336 ...  21.62562370300293     1.0\n",
       "        1.0   97.4072611638097  78.56895388549455 ... 22.913352966308594     1.0\n",
       "        2.0  97.40982141961794  78.41710616978406 ... 21.432212829589844     1.0\n",
       "        3.0  97.41315862905633  78.40450000094273 ... 20.099506378173828     1.0\n",
       "        4.0  97.41667091690539  78.50063218008853 ...  21.58721351623535     1.0\n",
       "        5.0  97.42059145285631  78.39016480972529 ... 21.512720108032227     1.0\n",
       "        6.0   97.4222782512624  78.58547948653145 ...  20.96501922607422     1.0\n",
       "        7.0  97.42554759155851  78.46643373407663 ... 21.474641799926758     1.0\n",
       "        8.0   97.4273696092702  78.42345079493901 ... 21.364166259765625     1.0\n",
       "        ...                ...                ... ...                ...     ...\n",
       "138315639.0  351.5670915632934 33.984249121479884 ...  19.14337158203125     1.0\n",
       "138315640.0  351.5675715318976 34.021386185793425 ... 19.114246368408203     1.0\n",
       "138315641.0 351.56834469251197  33.98198157234005 ... 21.691692352294922     0.0\n",
       "138315642.0  351.5691930737979  34.00516008574135 ... 21.209043502807617     0.0\n",
       "138315643.0 351.57032725367895  34.03898226023132 ... 21.001121520996094     1.0\n",
       "138315644.0 351.57037938538315  33.97714691855014 ...  20.87871551513672     1.0\n",
       "138315645.0  351.5707818515157 33.979262762840605 ... 22.105575561523438     1.0\n",
       "138315646.0  351.5712239587144 34.013447119231074 ... 21.332290649414062     1.0\n",
       "138315647.0  351.5716075454709 33.943854945855115 ... 19.425249099731445     0.0\n",
       "138315648.0 351.57161058246237 34.009294477740454 ...  21.36789321899414     1.0"
      ]
     },
     "execution_count": 12,
     "metadata": {},
     "output_type": "execute_result"
    }
   ],
   "source": [
    "%%time\n",
    "columns = [\"gal_id\", \"RA\", \"DEC\", \"z\", \"Z_absmag\", \"Z_L\", \"R_absmag\", \"R_L\", \"zerr\", \"logMstar\", \"Z_kcorr\", \"Z_appmag\", \"R_kcorr\", \"R_appmag\", \"select\"]\n",
    "##data_type = [('gal_id', 'i8'), ('RA', 'f4'), ('DEC', 'f4'), (\"z\", 'f4'), (\"Z_absmag\", 'f4'), (\"Z_L\", 'f4'), (\"R_absmag\", 'f4'), (\"R_L\", 'f4'), (\"zerr\", 'f4'), (\"logMstar\", 'f4'), (\"Z_kcorr\", 'f4'), (\"Z_appmag\", 'f4'), (\"R_kcorr\", 'f4'), (\"R_appmag\", 'f4'), (\"select\", 'i4')]\n",
    "gal_cat = Table(gal_cat, names = columns)\n",
    "gal_cat"
   ]
  },
  {
   "cell_type": "code",
   "execution_count": 14,
   "id": "736b1b2f-8239-44cc-b189-5c155f4c6679",
   "metadata": {
    "execution": {
     "iopub.execute_input": "2025-06-30T06:03:30.659678Z",
     "iopub.status.busy": "2025-06-30T06:03:30.658838Z",
     "iopub.status.idle": "2025-06-30T06:03:31.504985Z",
     "shell.execute_reply": "2025-06-30T06:03:31.504133Z",
     "shell.execute_reply.started": "2025-06-30T06:03:30.659662Z"
    },
    "tags": []
   },
   "outputs": [],
   "source": [
    "gal_cat['gal_id'] = gal_cat['gal_id'].astype(int)"
   ]
  },
  {
   "cell_type": "code",
   "execution_count": 16,
   "id": "0cec0fdf-c534-4abe-9adf-7ebc1a90f1de",
   "metadata": {
    "execution": {
     "iopub.execute_input": "2025-06-30T06:04:22.209536Z",
     "iopub.status.busy": "2025-06-30T06:04:22.208803Z",
     "iopub.status.idle": "2025-06-30T06:04:23.009614Z",
     "shell.execute_reply": "2025-06-30T06:04:23.008851Z",
     "shell.execute_reply.started": "2025-06-30T06:04:22.209515Z"
    },
    "tags": []
   },
   "outputs": [],
   "source": [
    "gal_cat['select'] = gal_cat['select'].astype(int)"
   ]
  },
  {
   "cell_type": "code",
   "execution_count": 17,
   "id": "d807d5c6-801b-41a1-944a-f8d2fe348b87",
   "metadata": {
    "execution": {
     "iopub.execute_input": "2025-06-30T06:04:30.208623Z",
     "iopub.status.busy": "2025-06-30T06:04:30.208315Z",
     "iopub.status.idle": "2025-06-30T06:04:31.437799Z",
     "shell.execute_reply": "2025-06-30T06:04:31.437092Z",
     "shell.execute_reply.started": "2025-06-30T06:04:30.208604Z"
    },
    "tags": []
   },
   "outputs": [
    {
     "data": {
      "text/plain": [
       "[<matplotlib.lines.Line2D at 0x2b0434a43cd0>]"
      ]
     },
     "execution_count": 17,
     "metadata": {},
     "output_type": "execute_result"
    },
    {
     "data": {
      "image/png": "[encoded data removed]",
      "text/plain": [
       "<Figure size 640x480 with 1 Axes>"
      ]
     },
     "metadata": {},
     "output_type": "display_data"
    }
   ],
   "source": [
    "plt.plot(gal_cat['RA'][::50], gal_cat['DEC'][::50], ',')\n",
    "\n",
    "plt.grid()\n",
    "\n",
    "## select NGC part\n",
    "xx = np.linspace(50, 150, 100)\n",
    "a1 = (0 - 60.0)/(100-50)\n",
    "b1 = 60 - 50*a1\n",
    "yy = a1*xx+b1\n",
    "plt.plot(xx, yy)\n",
    "\n",
    "xx = np.linspace(250, 350, 100)\n",
    "a2 = (20.0 + 40.0)/(300-250)\n",
    "b2 = -40 - a2*250\n",
    "yy = a2*xx+b2\n",
    "plt.plot(xx, yy)\n",
    "\n",
    "## skip small inlands\n",
    "xx = np.linspace(120, 180, 100)\n",
    "a3 = (-12 + 10.0)/(180-145)\n",
    "b3 = -12 - a3*180\n",
    "yy = a3*xx+b3\n",
    "plt.plot(xx, yy)\n",
    "\n",
    "xx = np.linspace(180, 240, 100)\n",
    "a4 = (-10+12)/(220-180)\n",
    "b4 = -12 - 180*a4\n",
    "yy = a4*xx+b4\n",
    "plt.plot(xx, yy)\n",
    "# plt.xlim([100, 250])\n",
    "# plt.ylim([-15, -1])"
   ]
  },
  {
   "cell_type": "code",
   "execution_count": 18,
   "id": "40dc593a-3c2f-434e-90de-664a92480f54",
   "metadata": {
    "execution": {
     "iopub.execute_input": "2025-06-30T06:04:35.209593Z",
     "iopub.status.busy": "2025-06-30T06:04:35.209190Z",
     "iopub.status.idle": "2025-06-30T06:04:38.901186Z",
     "shell.execute_reply": "2025-06-30T06:04:38.900413Z",
     "shell.execute_reply.started": "2025-06-30T06:04:35.209574Z"
    },
    "tags": []
   },
   "outputs": [],
   "source": [
    "ngc_mask  = gal_cat['DEC']>(a1*gal_cat['RA']+b1)\n",
    "ngc_mask &= gal_cat['DEC']>(a2*gal_cat['RA']+b2)\n",
    "ngc_mask &= gal_cat['DEC']>(a3*gal_cat['RA']+b3)\n",
    "ngc_mask &= gal_cat['DEC']>(a4*gal_cat['RA']+b4)"
   ]
  },
  {
   "cell_type": "markdown",
   "id": "4d3847d3-4826-44b2-9f39-bc4a7cf99ad5",
   "metadata": {},
   "source": [
    "## load group catalog"
   ]
  },
  {
   "cell_type": "code",
   "execution_count": 19,
   "id": "85f34629-a00c-40c3-98e6-09442fbf1427",
   "metadata": {
    "execution": {
     "iopub.execute_input": "2025-06-30T06:04:45.209510Z",
     "iopub.status.busy": "2025-06-30T06:04:45.209159Z",
     "iopub.status.idle": "2025-06-30T06:04:45.212671Z",
     "shell.execute_reply": "2025-06-30T06:04:45.211974Z",
     "shell.execute_reply.started": "2025-06-30T06:04:45.209486Z"
    },
    "tags": []
   },
   "outputs": [],
   "source": [
    "idir_group = \"/home/xhyang/work/Gfinder/DESIDR9/data/\"\n",
    "filename = \"DESIDR9_NGC_group\""
   ]
  },
  {
   "cell_type": "code",
   "execution_count": 21,
   "id": "ef8b8459-e101-483b-a5c1-599ac288b764",
   "metadata": {
    "execution": {
     "iopub.execute_input": "2025-06-30T06:05:02.442095Z",
     "iopub.status.busy": "2025-06-30T06:05:02.441792Z",
     "iopub.status.idle": "2025-06-30T06:05:26.610165Z",
     "shell.execute_reply": "2025-06-30T06:05:26.609361Z",
     "shell.execute_reply.started": "2025-06-30T06:05:02.442079Z"
    },
    "tags": []
   },
   "outputs": [
    {
     "name": "stdout",
     "output_type": "stream",
     "text": [
      "CPU times: user 22.2 s, sys: 1.41 s, total: 23.6 s\n",
      "Wall time: 24.2 s\n"
     ]
    }
   ],
   "source": [
    "%%time\n",
    "group_cat = np.loadtxt(idir_group + filename)"
   ]
  },
  {
   "cell_type": "code",
   "execution_count": 22,
   "id": "b6310287-88eb-4e7e-88c6-c6cff43e4c1e",
   "metadata": {
    "execution": {
     "iopub.execute_input": "2025-06-30T06:05:26.611761Z",
     "iopub.status.busy": "2025-06-30T06:05:26.611454Z",
     "iopub.status.idle": "2025-06-30T06:05:28.811095Z",
     "shell.execute_reply": "2025-06-30T06:05:28.810429Z",
     "shell.execute_reply.started": "2025-06-30T06:05:26.611741Z"
    },
    "tags": []
   },
   "outputs": [
    {
     "name": "stdout",
     "output_type": "stream",
     "text": [
      "CPU times: user 1.54 s, sys: 659 ms, total: 2.2 s\n",
      "Wall time: 2.19 s\n"
     ]
    },
    {
     "data": {
      "text/html": [
       "<div><i>Table length=48839245</i>\n",
       "<table id=\"table47297324751344\" class=\"table-striped table-bordered table-condensed\">\n",
       "<thead><tr><th>group_id</th><th>richness</th><th>RA</th><th>DEC</th><th>Z</th><th>logMh</th><th>L_group</th></tr></thead>\n",
       "<thead><tr><th>float64</th><th>float64</th><th>float64</th><th>float64</th><th>float64</th><th>float64</th><th>float64</th></tr></thead>\n",
       "<tr><td>1.0</td><td>695.0</td><td>231.1398</td><td>29.8822</td><td>0.1163</td><td>15.3436</td><td>496.2779</td></tr>\n",
       "<tr><td>2.0</td><td>626.0</td><td>250.099</td><td>46.6842</td><td>0.2353</td><td>15.4748</td><td>767.5737</td></tr>\n",
       "<tr><td>3.0</td><td>561.0</td><td>213.6645</td><td>-0.3548</td><td>0.14</td><td>15.2748</td><td>463.0623</td></tr>\n",
       "<tr><td>4.0</td><td>507.0</td><td>127.672</td><td>65.8657</td><td>0.1909</td><td>15.3472</td><td>589.2049</td></tr>\n",
       "<tr><td>5.0</td><td>490.0</td><td>227.7732</td><td>5.8762</td><td>0.0799</td><td>15.1164</td><td>245.8985</td></tr>\n",
       "<tr><td>6.0</td><td>490.0</td><td>229.1859</td><td>-0.8825</td><td>0.1212</td><td>15.2196</td><td>389.3267</td></tr>\n",
       "<tr><td>7.0</td><td>452.0</td><td>203.84</td><td>41.0008</td><td>0.2408</td><td>15.2758</td><td>549.4326</td></tr>\n",
       "<tr><td>8.0</td><td>444.0</td><td>260.637</td><td>32.119</td><td>0.228</td><td>15.2621</td><td>537.2723</td></tr>\n",
       "<tr><td>9.0</td><td>437.0</td><td>255.9755</td><td>78.6183</td><td>0.0627</td><td>15.1194</td><td>218.0752</td></tr>\n",
       "<tr><td>...</td><td>...</td><td>...</td><td>...</td><td>...</td><td>...</td><td>...</td></tr>\n",
       "<tr><td>48839236.0</td><td>1.0</td><td>172.2715</td><td>-3.4164</td><td>0.8067</td><td>13.472</td><td>15.5442</td></tr>\n",
       "<tr><td>48839237.0</td><td>1.0</td><td>172.2693</td><td>-3.5592</td><td>0.381</td><td>11.7638</td><td>0.96</td></tr>\n",
       "<tr><td>48839238.0</td><td>1.0</td><td>172.2624</td><td>-3.4417</td><td>0.1601</td><td>11.491</td><td>0.3657</td></tr>\n",
       "<tr><td>48839239.0</td><td>1.0</td><td>172.2626</td><td>-3.5618</td><td>0.311</td><td>11.756</td><td>0.9007</td></tr>\n",
       "<tr><td>48839240.0</td><td>1.0</td><td>172.2696</td><td>-3.4516</td><td>0.5433</td><td>12.1802</td><td>2.2198</td></tr>\n",
       "<tr><td>48839241.0</td><td>1.0</td><td>172.2637</td><td>-3.4524</td><td>0.2369</td><td>11.6688</td><td>0.6961</td></tr>\n",
       "<tr><td>48839242.0</td><td>1.0</td><td>172.2663</td><td>-3.5833</td><td>0.6177</td><td>12.3353</td><td>2.976</td></tr>\n",
       "<tr><td>48839243.0</td><td>1.0</td><td>172.2673</td><td>-3.4009</td><td>0.2511</td><td>11.7204</td><td>0.7969</td></tr>\n",
       "<tr><td>48839244.0</td><td>1.0</td><td>172.2643</td><td>-3.5857</td><td>0.522</td><td>12.021</td><td>1.6777</td></tr>\n",
       "<tr><td>48839245.0</td><td>1.0</td><td>97.399</td><td>78.4767</td><td>0.3818</td><td>11.4981</td><td>0.4715</td></tr>\n",
       "</table></div>"
      ],
      "text/plain": [
       "<Table length=48839245>\n",
       " group_id  richness    RA      DEC      Z     logMh  L_group \n",
       " float64   float64  float64  float64 float64 float64 float64 \n",
       "---------- -------- -------- ------- ------- ------- --------\n",
       "       1.0    695.0 231.1398 29.8822  0.1163 15.3436 496.2779\n",
       "       2.0    626.0  250.099 46.6842  0.2353 15.4748 767.5737\n",
       "       3.0    561.0 213.6645 -0.3548    0.14 15.2748 463.0623\n",
       "       4.0    507.0  127.672 65.8657  0.1909 15.3472 589.2049\n",
       "       5.0    490.0 227.7732  5.8762  0.0799 15.1164 245.8985\n",
       "       6.0    490.0 229.1859 -0.8825  0.1212 15.2196 389.3267\n",
       "       7.0    452.0   203.84 41.0008  0.2408 15.2758 549.4326\n",
       "       8.0    444.0  260.637  32.119   0.228 15.2621 537.2723\n",
       "       9.0    437.0 255.9755 78.6183  0.0627 15.1194 218.0752\n",
       "       ...      ...      ...     ...     ...     ...      ...\n",
       "48839236.0      1.0 172.2715 -3.4164  0.8067  13.472  15.5442\n",
       "48839237.0      1.0 172.2693 -3.5592   0.381 11.7638     0.96\n",
       "48839238.0      1.0 172.2624 -3.4417  0.1601  11.491   0.3657\n",
       "48839239.0      1.0 172.2626 -3.5618   0.311  11.756   0.9007\n",
       "48839240.0      1.0 172.2696 -3.4516  0.5433 12.1802   2.2198\n",
       "48839241.0      1.0 172.2637 -3.4524  0.2369 11.6688   0.6961\n",
       "48839242.0      1.0 172.2663 -3.5833  0.6177 12.3353    2.976\n",
       "48839243.0      1.0 172.2673 -3.4009  0.2511 11.7204   0.7969\n",
       "48839244.0      1.0 172.2643 -3.5857   0.522  12.021   1.6777\n",
       "48839245.0      1.0   97.399 78.4767  0.3818 11.4981   0.4715"
      ]
     },
     "execution_count": 22,
     "metadata": {},
     "output_type": "execute_result"
    }
   ],
   "source": [
    "%%time\n",
    "columns = ['group_id', 'richness', 'RA', 'DEC', 'Z', 'logMh', 'L_group']\n",
    "\n",
    "group_cat = Table(group_cat, names = columns)\n",
    "group_cat"
   ]
  },
  {
   "cell_type": "code",
   "execution_count": 23,
   "id": "2042cfaf-5a98-493a-981a-f15c68fa3136",
   "metadata": {
    "execution": {
     "iopub.execute_input": "2025-06-30T06:05:28.812102Z",
     "iopub.status.busy": "2025-06-30T06:05:28.811811Z",
     "iopub.status.idle": "2025-06-30T06:05:29.590132Z",
     "shell.execute_reply": "2025-06-30T06:05:29.589380Z",
     "shell.execute_reply.started": "2025-06-30T06:05:28.812084Z"
    },
    "tags": []
   },
   "outputs": [
    {
     "data": {
      "text/plain": [
       "[<matplotlib.lines.Line2D at 0x2b044440ffd0>]"
      ]
     },
     "execution_count": 23,
     "metadata": {},
     "output_type": "execute_result"
    },
    {
     "data": {
      "image/png": "[encoded data removed]",
      "text/plain": [
       "<Figure size 640x480 with 1 Axes>"
      ]
     },
     "metadata": {},
     "output_type": "display_data"
    }
   ],
   "source": [
    "plt.plot(group_cat['RA'][::100], group_cat['DEC'][::100], ',')\n",
    "plt.plot(gal_cat['RA'][ngc_mask][::200], gal_cat['DEC'][ngc_mask][::200], ',')"
   ]
  },
  {
   "cell_type": "code",
   "execution_count": 24,
   "id": "56903a76-0d03-467b-91f6-2913302a0462",
   "metadata": {
    "execution": {
     "iopub.execute_input": "2025-06-30T06:05:29.591746Z",
     "iopub.status.busy": "2025-06-30T06:05:29.591466Z",
     "iopub.status.idle": "2025-06-30T06:05:29.711039Z",
     "shell.execute_reply": "2025-06-30T06:05:29.710068Z",
     "shell.execute_reply.started": "2025-06-30T06:05:29.591729Z"
    },
    "tags": []
   },
   "outputs": [],
   "source": [
    "## add zmask with z>0\n",
    "zmask = (gal_cat['z']>0.)"
   ]
  },
  {
   "cell_type": "code",
   "execution_count": 25,
   "id": "719dd2b7-6e43-4d76-9551-88148ab0c9d7",
   "metadata": {
    "execution": {
     "iopub.execute_input": "2025-06-30T06:05:30.511565Z",
     "iopub.status.busy": "2025-06-30T06:05:30.511031Z",
     "iopub.status.idle": "2025-06-30T06:08:02.676804Z",
     "shell.execute_reply": "2025-06-30T06:08:02.675599Z",
     "shell.execute_reply.started": "2025-06-30T06:05:30.511542Z"
    },
    "tags": []
   },
   "outputs": [
    {
     "name": "stdout",
     "output_type": "stream",
     "text": [
      "CPU times: user 2min 6s, sys: 25.7 s, total: 2min 31s\n",
      "Wall time: 2min 32s\n"
     ]
    }
   ],
   "source": [
    "%%time\n",
    "\n",
    "rmag_cut_list = [19.5, 20.0, 20.5, 21.0, 21.5]\n",
    "\n",
    "for rmag_cut in rmag_cut_list:\n",
    "    rmag_mask = (gal_cat['R_appmag'] > 0.0)&(gal_cat['R_appmag'] < rmag_cut)\n",
    "\n",
    "    total_mask = rmag_mask&ngc_mask&zmask\n",
    "    gal_sub = gal_cat[total_mask]\n",
    "\n",
    "    ofile = f\"./catalog/DESIDR9_galaxy_ngc_rmagcut{rmag_cut}.fits\"\n",
    "    gal_sub.write(ofile, overwrite=True)"
   ]
  },
  {
   "cell_type": "code",
   "execution_count": null,
   "id": "ee8d6bec-9835-4a20-abf3-449a209971b0",
   "metadata": {},
   "outputs": [],
   "source": []
  }
 ],
 "metadata": {
  "kernelspec": {
   "display_name": "desi_fiberassign",
   "language": "python",
   "name": "desi_fiberassign"
  },
  "language_info": {
   "codemirror_mode": {
    "name": "ipython",
    "version": 3
   },
   "file_extension": ".py",
   "mimetype": "text/x-python",
   "name": "python",
   "nbconvert_exporter": "python",
   "pygments_lexer": "ipython3",
   "version": "3.10.14"
  }
 },
 "nbformat": 4,
 "nbformat_minor": 5
}
